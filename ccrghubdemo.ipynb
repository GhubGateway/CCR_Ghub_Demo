{
 "cells": [
  {
   "cell_type": "code",
   "execution_count": 1,
   "metadata": {},
   "outputs": [],
   "source": [
    "%load_ext autoreload\n",
    "%autoreload 2"
   ]
  },
  {
   "cell_type": "markdown",
   "metadata": {
    "tags": []
   },
   "source": [
    "<a name=\"top\"></a>\n",
    "# <center>CCR/Ghub Jupyter Notebook Demo</center>\n",
    "\n",
    "## Abstract\n",
    "\n",
    "- This Jupyter Notebook provides a demonstration for executing jobs in parallel on the University at Buffalo (UB)'s Center For Computational Research (CCR)'s high performance compute cluster, UB-HPC. \n",
    "\n",
    "    - On CCR, sbatch and Slurm commands are used to execute the parallel jobs.\n",
    "\n",
    "    - On Ghub, the Pegasus Workflow Management System (WMS) is used to execute the parallel jobs.\n",
    "\n",
    "- This tool's GitHub repository is located at https://github.com/GhubGateway/CCR_Ghub_Demo.\n",
    "\n",
    "### CCR Specifics\n",
    "\n",
    "- Login to CCR OnDemand.\n",
    "- Launch a Quick Launch General-Compute Desktop Interactive App.\n",
    "- Open a terminal window (Click the **>_** button).\n",
    "- In the terminal window, change directory (cd) to the CCR_Ghub_Demo directory and install the ccrghubdemo_kernel:\n",
    "    - Enter: source install_ccrghubdemo.2023.01_kernel.sh\n",
    "    - See the `CCR Scripts` section for more information.\n",
    "- Launch the Quick Launch JupyterLab/Notebook Interactive App, check the JupyterLab check box, and Connect to Jupyter.\n",
    "- Open the ccrghubdemo.ipynb notebook.\n",
    "- Select Kernel / Change Kernel and select the ccrghubdemo_kernel Kernel, the Python 3 (ipykernel) Kernel is set by default.\n",
    "- Select Kernel, Restart Kernel and Run All Cells. \n",
    "\n",
    "### Ghub Specifics\n",
    "\n",
    "- Login to Ghub.\n",
    "- Launch the Jupyter Notebooks (202210) tool.\n",
    "- Open the ccrghubdemo.ipynb notebook.\n",
    "- The Python 3 (ipykernel) Kernel is set by default.\n",
    "- Select Kernel, Restart & Run All.\n",
    "\n",
    "## Overview\n",
    "\n",
    "- This tool summerizes and displays time series information from experiment files contained within predetermined UB CCR ISMIP6 Mapped Collection Folders and Modeling Groups. Select the ISMIP6 Mapped Collection Folder and Modeling Groups. Click the `Run Workflow` button to execute the parallel jobs. When the workflow completes, the summerized time series information is displayed in the `View Workflow Results` section.\n"
   ]
  },
  {
   "cell_type": "code",
   "execution_count": 2,
   "metadata": {},
   "outputs": [
    {
     "name": "stdout",
     "output_type": "stream",
     "text": [
      "ID: debian\n",
      "Detected Host: Ghub\n"
     ]
    }
   ],
   "source": [
    "# Get the name of the operating system and set the HOST.\n",
    "with open(\"/etc/os-release\") as f:\n",
    "    d = {}\n",
    "    for line in f:\n",
    "        k,v = line.rstrip().split(\"=\")\n",
    "        d[k] = v\n",
    "id = d.get(\"ID\")\n",
    "print ('ID: %s' %str(id))\n",
    "if id == 'flatcar':\n",
    "    HOST='CCR'\n",
    "elif id == 'debian':\n",
    "    HOST = 'Ghub'\n",
    "else:\n",
    "    HOST = 'Unknown'\n",
    "    print ('Unable to detect the Host.')\n",
    "    print ('/ect/os-release: ', d)\n",
    "    print ('Notebook Run Workflow button is disabled.')\n",
    "print ('Detected Host: %s' %HOST)"
   ]
  },
  {
   "cell_type": "code",
   "execution_count": 3,
   "metadata": {},
   "outputs": [
    {
     "data": {
      "application/javascript": [
       "\n",
       "requirejs.undef('filepicker');\n",
       "\n",
       "define('filepicker', [\"@jupyter-widgets/base\"], function(widgets) {\n",
       "\n",
       "    var FilePickerView = widgets.DOMWidgetView.extend({\n",
       "        render: function(){\n",
       "            this.file = document.createElement('input');\n",
       "            this.file.setAttribute('class', 'fileinput');\n",
       "            this.file.setAttribute('id', this.cid);\n",
       "            this.file.multiple = this.model.get('multiple');\n",
       "            this.file.required = true;\n",
       "            this.file.setAttribute('type', 'file');\n",
       "            this.file.setAttribute('style', 'display:none');\n",
       "\n",
       "            this.label = document.createElement('label');\n",
       "            this.label.setAttribute('for', this.cid);\n",
       "            this.label.setAttribute('style', 'border: 1px solid; border-radius: 5px; display: inline-block; padding: 6px 12px');\n",
       "\n",
       "            this.icon = document.createElement('i');\n",
       "            this.icon.setAttribute(\"class\", \"fa fa-upload\");\n",
       "\n",
       "            if (this.file.multiple) {\n",
       "                this.labelstr = \"  Upload Files\";\n",
       "            } else {\n",
       "                this.labelstr = \"  Upload File\";\n",
       "            }\n",
       "            this.label.innerHTML = this.labelstr;\n",
       "            this.label.prepend(this.icon);\n",
       "            this.el.appendChild(this.label);\n",
       "            this.el.appendChild(this.file);\n",
       "            this.listenTo(this.model, 'change:send', this._send_changed, this);\n",
       "            this.listenTo(this.model, 'change:reset', this._reset, this);\n",
       "            this.update();\n",
       "        },\n",
       "\n",
       "        events: {\n",
       "            // List of events and their handlers.\n",
       "            'change': 'handle_file_change'\n",
       "        },\n",
       "\n",
       "        _reset: function() {\n",
       "            this.label.innerHTML = this.labelstr;\n",
       "            this.label.prepend(this.icon);\n",
       "            this.file.removeAttribute(\"disabled\");\n",
       "        },\n",
       "\n",
       "        _send_changed: function() {\n",
       "            var that = this;\n",
       "            var send = this.model.get('send');\n",
       "            var fnum = send[0];\n",
       "            var offset = send[1];\n",
       "            var chunk_size=64*1024;\n",
       "            var reader;\n",
       "\n",
       "            if (fnum == -1) {\n",
       "                // ignore\n",
       "                return\n",
       "            }\n",
       "\n",
       "            if (offset == 0) {\n",
       "                this.model.set('sent', -1);\n",
       "                this.touch();\n",
       "            }\n",
       "\n",
       "            // console.log('send: ' + fnum + ' ' + offset);\n",
       "            function tob64( buffer ) {\n",
       "                var binary = '';\n",
       "                var bytes = new Uint8Array( buffer );\n",
       "                var len = bytes.byteLength;\n",
       "                for (var i = 0; i < len; i++) {\n",
       "                    binary += String.fromCharCode( bytes[ i ] );\n",
       "                }\n",
       "                return window.btoa( binary );\n",
       "            }\n",
       "\n",
       "            var reader_done = function (event) {\n",
       "                // chunk is finished.  Send to python\n",
       "                if (event.target.error == null) {\n",
       "                    var b64 = tob64(event.target.result);\n",
       "                    that.model.set('data', b64);\n",
       "                    that.model.set('sent', offset);\n",
       "                    that.touch();\n",
       "                } else {\n",
       "                    console.log(\"Read error: \" + event.target.error);\n",
       "                    that.model.set('data', '');\n",
       "                    that.model.set('sent', -2);\n",
       "                    that.touch();\n",
       "                }\n",
       "                that.touch();\n",
       "            }\n",
       "        \n",
       "            var chunk_reader = function (_offset, _f) {\n",
       "                // console.log('CR' + ' ' + _f + ' ' + _offset);\n",
       "                reader = new FileReader();\n",
       "                var chunk = _f.slice(_offset, chunk_size + _offset);            \n",
       "                reader.readAsArrayBuffer(chunk);\n",
       "                reader.onload = reader_done;\n",
       "            }\n",
       "    \n",
       "            // OK. request next chunk\n",
       "            chunk_reader(offset, this.files[fnum]);\n",
       "        },\n",
       "        \n",
       "        \n",
       "        handle_file_change: function(evt) {\n",
       "\n",
       "            var _files = evt.target.files;\n",
       "            var filenames = [];\n",
       "            var file_readers = [];\n",
       "            this.files = [];\n",
       "\n",
       "            for (var i = 0; i < _files.length; i++) {\n",
       "                var file = _files[i];\n",
       "                console.log(\"Filename: \" + file.name);\n",
       "                console.log(\"Type: \" + file.type);\n",
       "                console.log(\"Size: \" + file.size + \" bytes\");\n",
       "                this.files.push(file);\n",
       "                filenames.push([file.name, file.size]);\n",
       "            };\n",
       "            \n",
       "            // Set the filenames of the files.\n",
       "            this.model.set('filenames', filenames);\n",
       "            this.touch();\n",
       "\n",
       "            // update the label\n",
       "            if (filenames.length == 0) {\n",
       "                this.label.innerHTML = this.labelstr;\n",
       "                this.file.removeAttribute(\"disabled\");\n",
       "            } else if (filenames.length == 1) {\n",
       "                this.label.innerHTML = \"  \" + filenames[0][0];\n",
       "                this.file.setAttribute('disabled', 'true');\n",
       "            } else {\n",
       "                this.label.innerHTML = \"  \" + filenames.length + \" files selected\";\n",
       "                this.file.setAttribute('disabled', 'true');           \n",
       "            };\n",
       "            this.label.prepend(this.icon);\n",
       "        },\n",
       "    });\n",
       "\n",
       "    // Register the FilePickerView with the widget manager.\n",
       "    return {\n",
       "        FilePickerView: FilePickerView\n",
       "    };\n",
       "});\n"
      ],
      "text/plain": [
       "<IPython.core.display.Javascript object>"
      ]
     },
     "metadata": {},
     "output_type": "display_data"
    }
   ],
   "source": [
    "# Setup and preoprocessing:\n",
    "\n",
    "import atexit\n",
    "import ctypes as ct \n",
    "import functools\n",
    "import getpass\n",
    "import ipywidgets as widgets\n",
    "import math\n",
    "import os\n",
    "import platform\n",
    "import shutil\n",
    "import sys\n",
    "import subprocess\n",
    "import time\n",
    "\n",
    "from IPython.display import display, HTML, clear_output\n",
    "\n",
    "# On CCR, the following imports depend on the ccrghubdemo_kernel Kernel.\n",
    "# See the Python Installation Scripts and Python Launch Script section for more information.\n",
    "import numpy as np\n",
    "import pandas as pd\n",
    "import hublib\n",
    "#print (help(hublib))\n",
    "import hublib.ui as ui\n",
    "#print (help(ui))\n",
    "\n",
    "np.set_printoptions(threshold=np.inf) \n",
    "\n",
    "#print(sys.path)\n",
    "\n",
    "# Set up the environment for this notebook\n",
    "\n",
    "# Setup paths to executables\n",
    "scriptpath = os.path.realpath(\" \")\n",
    "        \n",
    "# Directory where this notebook resides\n",
    "self_tooldir = os.path.dirname(scriptpath)\n",
    "\n",
    "# Setup path to python and bash scripts\n",
    "self_bindir = os.path.join(self_tooldir, \"bin\")\n",
    "\n",
    "# Add to PYTHONPATH\n",
    "sys.path.insert (1, self_bindir)\n",
    "\n",
    "# Setup path to python and bash scripts\n",
    "self_datadir = os.path.join(self_tooldir, \"data\")\n",
    "\n",
    "# Setup path to python and bash scripts\n",
    "self_remotebindir = os.path.join(self_tooldir, \"remotebin\")\n",
    "\n",
    "self_username = getpass.getuser()\n",
    "\n",
    "if HOST == 'CCR':\n",
    "    \n",
    "    from run_jobs_ccr import RunJobs\n",
    "    \n",
    "elif HOST == 'Ghub':\n",
    "    \n",
    "    import hublib.use\n",
    "    #print (help(hublib.use))\n",
    "    \n",
    "    # Version of Pegasus\n",
    "    %use pegasus-5.0.1\n",
    "    \n",
    "    from run_jobs_ghub import RunJobs\n",
    "\n",
    "self_log_filepath = os.path.join(self_tooldir, 'ccrghubdemo_log_file.txt')\n",
    "self_log_backup_filepath = os.path.join(self_tooldir, 'ccrghubdemo_log_backup_file.txt')\n",
    "\n",
    "BOLD = '\\033[1m'\n",
    "SUCCESS = '\\033[92m'\n",
    "WARNING = '\\033[93m'\n",
    "FAIL = '\\033[91m'\n",
    "END = '\\033[0m'\n",
    "\n",
    "BORDER_STYLE = '1px solid black'\n",
    "\n",
    "DROPDOWN_WIDTH = '965px'\n",
    "DROPDOWN_HEIGHT = '30px'\n",
    "\n",
    "GRAY_BUTTON_WIDTH = '150px'\n",
    "GRAY_BUTTON_HEIGHT = '30px'\n",
    "GREEN_BUTTON_WIDTH = '350px'\n",
    "GREEN_BUTTON_HEIGHT = '30px'\n",
    "BLUE_BUTTON_WIDTH = '600px'\n",
    "BLUE_BUTTON_HEIGHT = '30px'\n",
    "\n",
    "# Clean up: remove files from the data/results folder and the bin/__pycache__ folder\n",
    "def exit_handler():\n",
    "    \n",
    "    for file in os.listdir(self_tooldir):\n",
    "        \n",
    "        if os.path.isfile(file):\n",
    "            if file.endswith('.txt'):\n",
    "                if file != 'README.txt' and file.endswith('netcdf_info.txt') == False and file != 'ccrghubdemo_log_file.txt':\n",
    "                    #print (\"Deleting: %s\\n\" %file)\n",
    "                    os.remove(file)\n",
    "            if file.endswith(\".yml\"):\n",
    "                #print (\"Deleting: %s\\n\" %file)\n",
    "                os.remove(file)\n",
    "            elif file.endswith(\".stdout\"):\n",
    "                #print (\"Deleting: %s\\n\" %file)\n",
    "                os.remove(file)\n",
    "            elif file.endswith(\".stderr\"):\n",
    "                #print (\"Deleting: %s\\n\" %file)\n",
    "                os.remove(file)\n",
    "\n",
    "    #dirpath = os.path.join(self_bindir, \"__pycache__\")\n",
    "    #if (os.path.exists(dirpath)):\n",
    "        #print (\"Deleting: %s\\n\" %dirpath)\n",
    "        #shutil.rmtree(dirpath)\n",
    "        \n",
    "    FH1.flush()\n",
    "    FH1.close()\n",
    "\n",
    "atexit.register(exit_handler);\n",
    "\n",
    "# On CCR, getting Javascript Error: Can't find variable: requirejs\n",
    "#HTML('''\n",
    "#<script src=\"https://cdnjs.cloudflare.com/ajax/libs/require.js/2.3.6/require.js\"></script>\n",
    "#''')"
   ]
  },
  {
   "cell_type": "code",
   "execution_count": 4,
   "metadata": {},
   "outputs": [],
   "source": [
    "#help ('modules')"
   ]
  },
  {
   "cell_type": "code",
   "execution_count": 5,
   "metadata": {},
   "outputs": [],
   "source": [
    "# prevent In[] and Out[] from displaying on left\n",
    "#HTML('''\n",
    "#<style>.prompt{width: 0px; min-width: 0px; visibility: collapse}</style>\n",
    "#''')"
   ]
  },
  {
   "cell_type": "code",
   "execution_count": 6,
   "metadata": {},
   "outputs": [
    {
     "data": {
      "text/html": [
       "\n",
       "<script>\n",
       "    function scroll_to_top() {\n",
       "        Jupyter.notebook.scroll_to_top();\n",
       "    } \n",
       "    $( window ).on( \"load\", scroll_to_top() );\n",
       "</script>\n"
      ],
      "text/plain": [
       "<IPython.core.display.HTML object>"
      ]
     },
     "execution_count": 6,
     "metadata": {},
     "output_type": "execute_result"
    }
   ],
   "source": [
    "#https://api.jquery.com/ready/\n",
    "HTML('''\n",
    "<script>\n",
    "    function scroll_to_top() {\n",
    "        Jupyter.notebook.scroll_to_top();\n",
    "    } \n",
    "    $( window ).on( \"load\", scroll_to_top() );\n",
    "</script>\n",
    "''')"
   ]
  },
  {
   "cell_type": "code",
   "execution_count": 7,
   "metadata": {},
   "outputs": [
    {
     "data": {
      "text/html": [
       "\n",
       "<style>.buttontextclass { color:black ; font-size:130%}</style>\n"
      ],
      "text/plain": [
       "<IPython.core.display.HTML object>"
      ]
     },
     "execution_count": 7,
     "metadata": {},
     "output_type": "execute_result"
    }
   ],
   "source": [
    "# Button styles\n",
    "HTML('''\n",
    "<style>.buttontextclass { color:black ; font-size:130%}</style>\n",
    "''')"
   ]
  },
  {
   "cell_type": "code",
   "execution_count": 8,
   "metadata": {},
   "outputs": [],
   "source": [
    "#https://stackoverflow.com/questions/36757301/disable-ipython-notebook-autoscrolling"
   ]
  },
  {
   "cell_type": "code",
   "execution_count": 9,
   "metadata": {},
   "outputs": [],
   "source": [
    "# returning Javascript Error: Can't find variable: IPython\n",
    "#%%javascript\n",
    "#IPython.OutputArea.prototype._should_scroll = function(lines) {\n",
    "    #return false;\n",
    "#}\n"
   ]
  },
  {
   "cell_type": "code",
   "execution_count": 10,
   "metadata": {},
   "outputs": [],
   "source": [
    "# Initialize\n",
    "\n",
    "if os.path.exists(self_log_filepath):\n",
    "    shutil.move (self_log_filepath, self_log_backup_filepath)\n",
    "\n",
    "FH1 = open(self_log_filepath, 'w')\n",
    "\n",
    "show_log_output_button = widgets.Button(description=\"Show Log Output\", disabled=False,\\\n",
    "    layout=widgets.Layout(width=BLUE_BUTTON_WIDTH, height=BLUE_BUTTON_HEIGHT),\\\n",
    "    style= {'button_color':'skyblue','font_weight':'bold'}).add_class(\"buttontextclass\")\n",
    "\n",
    "# Utility Functions\n",
    "\n",
    "def log_info (message):\n",
    "    \n",
    "    if show_log_output_button.description == 'Hide Log Output': \n",
    "        with log_output:\n",
    "            print (message)    \n",
    "    FH1.write('%s\\n' %message)\n",
    "    FH1.flush()\n",
    "\n",
    "def log_status (output_widget, message):\n",
    "    \n",
    "    with output_widget:\n",
    "        print (message)\n",
    "    log_info (message)\n",
    "    \n",
    "def log_success (output_widget, message):\n",
    "    \n",
    "    with output_widget:\n",
    "        print ('%s%s%s' %(SUCCESS,message,END))\n",
    "    log_info (message)\n",
    "    \n",
    "def log_warning (output_widget, message):\n",
    "    \n",
    "    with output_widget:\n",
    "        print ('%s%s%s' %(WARNING,message,END))\n",
    "    log_info (message)\n",
    "    \n",
    "def log_error (output_widget, message):\n",
    "    \n",
    "    with output_widget:\n",
    "        print ('%s%s%s' %(FAIL,message,END))\n",
    "    log_info (message)\n",
    "    \n",
    "if (1): #cfg.VERBOSE == True:\n",
    "    \n",
    "    log_info ('Operating System Platform: ' + platform.system() + ' ' + platform.release())\n",
    "    log_info ('\\n')\n",
    "\n",
    "    log_info ('Environment:\\n')\n",
    "    log_info ('scriptpath: ' + scriptpath)\n",
    "    log_info ('tooldir: ' + self_tooldir)\n",
    "    log_info ('bindir: ' + self_bindir)\n",
    "    log_info ('username: ' + self_username)\n",
    "    log_info ('\\n')\n",
    "    \n",
    "    #print (type(sys.path)) # <class 'list'>\n",
    "    #print (sys.path)\n",
    "    log_info ('sys.path: ' + ' '.join(str(path)+'\\n' for path in sys.path))\n",
    "    log_info ('\\n')\n",
    "    \n",
    "    #print (type(os.environ[\"PATH\"])) # <class 'str'>\n",
    "    #print (os.environ[\"PATH\"])\n",
    "    log_info ('os.environ[\"PATH\"]: ' + os.environ[\"PATH\"])\n",
    "    log_info ('\\n')\n",
    "    \n",
    "log_info ('Python version: %s' %str(platform.python_version()))\n",
    "#help ('modules')"
   ]
  },
  {
   "cell_type": "code",
   "execution_count": 11,
   "metadata": {},
   "outputs": [],
   "source": [
    "# Setup the show file buttons\n",
    "\n",
    "def show_file_header(template):\n",
    "    \n",
    "    display(HTML('<h3>Contents of file %s:</h3>' %template))\n",
    "    \n",
    "def show_download_button(download_button_output=None, filepath=None):\n",
    "    \n",
    "    with download_button_output:\n",
    "        \n",
    "        #print ('show_download_button filepath: ', filepath)\n",
    "        # Download file from Ghub\n",
    "        display(HTML('<h3>Download %s to Your Web Browser</h3>' %os.path.basename(filepath)))\n",
    "        #print (os.path.relpath(self_log_filepath, self_tooldir))\n",
    "        downloadTXTButton = ui.Download(os.path.relpath(filepath, self_tooldir),\n",
    "            label = 'Download File', style='success', icon='fa-arrow-circle-down')\n",
    "        display(downloadTXTButton)\n",
    "    \n",
    "def show_file_output(button, descr=None, filepath=None, file_output=None, download_button_output=None):\n",
    "\n",
    "    log_info ('show_file_output...')\n",
    "        \n",
    "    log_info ('button: %s' %str(button))\n",
    "    log_info ('descr: %s' %descr)\n",
    "    log_info ('filepath: %s' %filepath)\n",
    "    \n",
    "    if os.path.exists(filepath):\n",
    "\n",
    "        if button.description == 'Show %s' %descr:\n",
    "\n",
    "            button.description = 'Hide %s' %descr\n",
    "\n",
    "            with file_output:\n",
    "                \n",
    "                show_file_header(filepath)\n",
    "\n",
    "                f = open(filepath,'r')\n",
    "                for line in f:\n",
    "                    print(line.rstrip())\n",
    "                f.close()\n",
    "\n",
    "                if HOST == 'Ghub' and 'Invoke Script' not in descr:\n",
    "                    show_download_button(download_button_output, filepath)\n",
    "        else:\n",
    "\n",
    "            button.description = 'Show %s' %descr\n",
    "            file_output.clear_output()\n",
    "            download_button_output.clear_output()\n",
    "    else:\n",
    "        log_error (file_output, '%s does not exist ' %filepath + '. Please contact us.')\n"
   ]
  },
  {
   "cell_type": "code",
   "execution_count": 12,
   "metadata": {},
   "outputs": [],
   "source": [
    "def show_file_output_button(descr, filepath, disabled):\n",
    "    button = widgets.Button(description='Show %s' %descr, disabled=disabled,\\\n",
    "        layout=widgets.Layout(width=BLUE_BUTTON_WIDTH, height=BLUE_BUTTON_HEIGHT),\\\n",
    "        style= {'button_color':'skyblue','font_weight':'bold'}).add_class('buttontextclass')\n",
    "    file_output = widgets.Output(layout={'border': BORDER_STYLE})\n",
    "    download_button_output = widgets.Output()\n",
    "    button.on_click\\\n",
    "        (functools.partial(show_file_output, descr=descr, filepath=filepath, file_output=file_output, download_button_output=download_button_output))\n",
    "    display (button)\n",
    "    display (file_output)\n",
    "    display (download_button_output)\n",
    "    return button, file_output, download_button_output\n"
   ]
  },
  {
   "cell_type": "markdown",
   "metadata": {
    "tags": []
   },
   "source": [
    "<a name=\"userguide\"></a>\n",
    "## User Guide\n",
    "\n",
    "### [**Steps for using this tool**](#steps_for_using_this_tool)<br />\n",
    "\n",
    "1. [Select the Mapped Collection Folder](#step_1) <br />\n",
    "2. [Select the Modeling Groups](#step_2)<br />\n",
    "3. [Run the Workflow](#step_3)<br />\n",
    "4. [View Workflow Progress](#step_4)<br />\n",
    "5. [View Workflow Results](#step_5)<br />\n",
    "6. [View Log Output](#step_6)<br />\n",
    "7. [View Source Code and Scripts](#step_7)<br />\n",
    "    1. [Source Code](#step_7_a)<br />\n",
    "    3. [CCR Scripts](#step_7_b)<br />\n",
    "    4. [Ghub scripts](#step_7_c)<br />\n",
    "\n",
    "Please [Schedule a Meeting](https://theghub.org/bookmeeting) if you have questions."
   ]
  },
  {
   "cell_type": "code",
   "execution_count": 13,
   "metadata": {},
   "outputs": [],
   "source": [
    "# Get the UB CCR's map collection folders information \n",
    "mapped_collections_filename = os.path.join(self_datadir, 'ub-ccr-ghub-ISMIP6-mapped_collections.xlsx')\n",
    "\n",
    "mapped_collections_df = pd.read_excel (mapped_collections_filename)\n",
    "#print (type(mapped_collections_df))\n",
    "#print (mapped_collections_df)\n",
    "\n",
    "num_mapped_collections = len(mapped_collections_df)\n",
    "#print (num_mapped_collections)\n",
    "\n",
    "HBox_layout = widgets.Layout(height='45px', width='98%', display='flex', flex_flow='row', justify_content='flex-start')\n",
    "\n",
    "def append_modeling_groups (modeling_group):\n",
    "    model_checkbox = widgets.Checkbox(\n",
    "        value = True,\n",
    "        description = modeling_group,\n",
    "        indent = False,\n",
    "        disabled = True,\n",
    "        style = {'description_width':'200px'},\n",
    "        layout= {'height': '40px', 'width': '200px'})\n",
    "    model = widgets.HBox(children=[model_checkbox], layout = HBox_layout)\n",
    "    all_modeling_groups.append(model)\n",
    "\n",
    "folder_list = []\n",
    "description_list = []\n",
    "modeling_groups_list = []\n",
    "\n",
    "for i in range(num_mapped_collections):\n",
    "    folder = str(mapped_collections_df['Folder'][i].strip(' \\t\\n\\r'))\n",
    "    folder_list.append(folder)\n",
    "    description = str(mapped_collections_df['Description'][i].strip(' \\t\\n\\r'))\n",
    "    description_list.append(description)\n",
    "    modeling_groups = (str(mapped_collections_df['Modeling Groups'][i].strip(' \\t\\n\\r')))\n",
    "    modeling_groups_list.append (modeling_groups)\n",
    "log_info ('folder_list: ' + str(folder_list))\n",
    "log_info ('description_list: ' + str (description_list))\n",
    "log_info ('modeling_groups_list: ' + str (modeling_groups_list))\n",
    "\n",
    "folder_index = 0\n",
    "all_modeling_groups = []\n"
   ]
  },
  {
   "cell_type": "markdown",
   "metadata": {},
   "source": [
    "<a name=\"step_1\"></a>\n",
    "## Step 1: Select the Mapped Collection Folder [&#8607;](#userguide)\n",
    "\n",
    "Select one of six predetermined UB CCR ISMIP6 mapped collection folders.\n"
   ]
  },
  {
   "cell_type": "code",
   "execution_count": 14,
   "metadata": {},
   "outputs": [],
   "source": [
    "def folder_dropdown_callback(change):\n",
    "    \n",
    "    global folder_index\n",
    "   \n",
    "    if change['type'] == 'change' and change['name'] == 'value' and change['new'] != ' ' \\\n",
    "        and folder_dropdown.value != None:\n",
    "        \n",
    "        selected_folder = folder_dropdown.value\n",
    "        log_info ('selected folder: ' + selected_folder)\n",
    "        folder_index = folder_list.index(selected_folder)\n",
    "        initialize()\n",
    "            \n",
    "folder_dropdown = widgets.Dropdown(\n",
    "    description = 'Folder:',\n",
    "    disabled = False,\n",
    "    options = folder_list,\n",
    "    value = folder_list[0],\n",
    "    style = {'description_width': '150px'},\n",
    "    layout = widgets.Layout(width=DROPDOWN_WIDTH, height=DROPDOWN_HEIGHT)\n",
    ")\n",
    "folder_dropdown.observe(folder_dropdown_callback)\n"
   ]
  },
  {
   "cell_type": "code",
   "execution_count": 15,
   "metadata": {},
   "outputs": [
    {
     "data": {
      "application/vnd.jupyter.widget-view+json": {
       "model_id": "437b990e67654a2f87ad2c55da48d5ba",
       "version_major": 2,
       "version_minor": 0
      },
      "text/plain": [
       "Group(children=(HTML(value=\"<p   style='background-color: #DCDCDC; font-size: 150%; padding: 5px'>Mapped Colle…"
      ]
     },
     "metadata": {},
     "output_type": "display_data"
    }
   ],
   "source": [
    "folder_form = ui.Form([folder_dropdown], name = 'Mapped Collection Folder')\n",
    "display (folder_form)"
   ]
  },
  {
   "cell_type": "markdown",
   "metadata": {},
   "source": [
    "<a name=\"step_2\"></a>\n",
    "## Step 2: Select the Modeling Groups [&#8607;](#userguide)\n",
    "\n",
    "Select the modeling groups within the selected mapped collection folder. Time series data from experiment files contained within the selected modeling groups are summerized and displayed when the workflow is executed. See the `Run the Workflow` section for more information. By default, the AWI and ITLS_PIK modeling groups are selected."
   ]
  },
  {
   "cell_type": "code",
   "execution_count": 16,
   "metadata": {},
   "outputs": [],
   "source": [
    "def select_default_modeling_groups():\n",
    "    \n",
    "    # Reduce the computational load by default\n",
    "    global all_modeling_groups\n",
    "    for i in range(len(all_modeling_groups)):\n",
    "        modeling_group = all_modeling_groups[i].children[0].description\n",
    "        if modeling_group == 'AWI' or modeling_group == 'ILTS_PIK':\n",
    "            all_modeling_groups[i].children[0].value = True\n",
    "        else:\n",
    "            all_modeling_groups[i].children[0].value = False\n",
    "        \n",
    "def select_default_models_button_callback(p):\n",
    "    select_default_modeling_groups()\n",
    "    \n",
    "select_default_models_button = widgets.Button(description=\"Select Defaults\", disabled=False,\\\n",
    "                             layout=widgets.Layout(width=GRAY_BUTTON_WIDTH, height=GRAY_BUTTON_HEIGHT, justify_content=\"flex-end\"),\\\n",
    "                             style= {'button_color':'lightgray','font_weight':'bold'})\n",
    "select_default_models_button.add_class(\"button2textclass\")\n",
    "select_default_models_button.on_click (select_default_models_button_callback)\n",
    "\n",
    "def select_all_modeling_groups():\n",
    "    global all_modeling_groups\n",
    "    for i in range(len(all_modeling_groups)):\n",
    "        all_modeling_groups[i].children[0].value = True\n",
    "        \n",
    "def select_all_models_button_callback(p):\n",
    "    select_all_modeling_groups()\n",
    "    \n",
    "select_all_models_button = widgets.Button(description=\"Select All\", disabled=False,\\\n",
    "                             layout=widgets.Layout(width=GRAY_BUTTON_WIDTH, height=GRAY_BUTTON_HEIGHT, justify_content=\"flex-end\"),\\\n",
    "                             style= {'button_color':'lightgray','font_weight':'bold'})\n",
    "select_all_models_button.add_class(\"button2textclass\")\n",
    "select_all_models_button.on_click (select_all_models_button_callback)\n",
    "\n",
    "def unselect_all_modeling_groups():\n",
    "    global all_modeling_groups\n",
    "    for i in range(len(all_modeling_groups)):\n",
    "        all_modeling_groups[i].children[0].value = False\n",
    "        \n",
    "def unselect_all_models_button_callback(p):\n",
    "    unselect_all_modeling_groups()\n",
    "    \n",
    "unselect_all_models_button = widgets.Button(description=\"Unselect All\", disabled=False,\\\n",
    "                             layout=widgets.Layout(width=GRAY_BUTTON_WIDTH, height=GRAY_BUTTON_HEIGHT, justify_content=\"flex-end\"),\\\n",
    "                             style= {'button_color':'lightgray','font_weight':'bold'})\n",
    "unselect_all_models_button.add_class(\"button2textclass\")\n",
    "\n",
    "unselect_all_models_button.on_click (unselect_all_models_button_callback)"
   ]
  },
  {
   "cell_type": "code",
   "execution_count": 17,
   "metadata": {},
   "outputs": [
    {
     "data": {
      "application/vnd.jupyter.widget-view+json": {
       "model_id": "0ff7c5b68925428ca43c35fc21ee2576",
       "version_major": 2,
       "version_minor": 0
      },
      "text/plain": [
       "Output(layout=Layout(border='1px solid black'))"
      ]
     },
     "metadata": {},
     "output_type": "display_data"
    }
   ],
   "source": [
    "models_form_output = widgets.Output(layout={'border': BORDER_STYLE})\n",
    "display(models_form_output)"
   ]
  },
  {
   "cell_type": "code",
   "execution_count": 18,
   "metadata": {},
   "outputs": [
    {
     "data": {
      "application/vnd.jupyter.widget-view+json": {
       "model_id": "be11faa003d149f98cfde22a2e3bb8ab",
       "version_major": 2,
       "version_minor": 0
      },
      "text/plain": [
       "Output(layout=Layout(border='1px solid black'))"
      ]
     },
     "metadata": {},
     "output_type": "display_data"
    }
   ],
   "source": [
    "models_form_output = widgets.Output(layout={'border': BORDER_STYLE})\n",
    "display(models_form_output)"
   ]
  },
  {
   "cell_type": "markdown",
   "metadata": {
    "tags": []
   },
   "source": [
    "<a name=\"step_3\"></a>\n",
    "## Step 3: Run the Workflow [&#8607;](#userguide)\n",
    "\n",
    "Click the `Run Workflow` button to run the workflow jobs.  \n",
    "\n",
    "- The get_netcdf_info.py Python script is executed in parallel for each of the selected modeling groups. This script uses the Python xarray package to analyze time series data from experiment files contained within the mapped collection folder's selected modeling groups and creates a json file for each of the selected modeling groups. The process_netcdf_info.py Python script reads the json files created by get_netcdf_info.py, determines unique time series information for each experiment type, and creates a text file containing the summerized time series information. This text file is displayed in the `View Workflow Results` section when the workflow completes.\n",
    "\n",
    "- On CCR, execution of the Python scripts are inititated by the run_jobs_ccr.py script in the tool's bin directory. Bash scripts invoke the sbatch command line tool to submit batch jobs to Slurm and to monitor when the submitted jobs complete. See [Running Jobs](https://docs.ccr.buffalo.edu/en/latest/hpc/jobs/) to learn more about using sbatch and Slurm on CCR.\n",
    "\n",
    "- On Ghub, the Python scripts are encapsulated as a workflow by the run_jobs_ghub.py script in the tool's bin directory. The Pegasus WMS automates and manages the execution of the workflow jobs, including staging the jobs, distributing the work, submitting the jobs to run in parallel on CCR's UB-HPC compute cluster, as well as handling data flow dependencies and overcoming job failures. Launch the Ghub [Pegasus Workflows Tutorial and Templates](https://theghub.org/tools/ghubex1) tool to learn more about running Pegasus WMS workflows on Ghub.\n",
    "\n",
    "- If an error is encountered while running the workflow, the cause of the error will be written to the log output file, ccrghubdemo_log_file.txt. See the `View Log Output File` section for more information.\n"
   ]
  },
  {
   "cell_type": "code",
   "execution_count": 19,
   "metadata": {},
   "outputs": [],
   "source": [
    " # Run Workflow\n",
    "\n",
    "def run_workflow(p):\n",
    "    \n",
    "    # print (p) #Button    \n",
    "    \n",
    "    global self_workflow_succeeded\n",
    "    self_workflow_succeeded = False\n",
    "    global self_workflow_results_filepath\n",
    "    \n",
    "    workflow_progress.clear_output()\n",
    "    workflow_results.clear_output()\n",
    "        \n",
    "    with workflow_progress:\n",
    "        \n",
    "        disable_widgets()\n",
    "        \n",
    "        start_time = time.time()\n",
    "\n",
    "        try:\n",
    "            \n",
    "            log_info ('folder_index: ' + str(folder_index))\n",
    "            \n",
    "            selected_modeling_groups = []\n",
    "            for i in range(len(all_modeling_groups)):\n",
    "                if all_modeling_groups[i].children[0].value == True:\n",
    "                      selected_modeling_groups.append (all_modeling_groups[i].children[0].description)\n",
    "                        \n",
    "            if len(selected_modeling_groups) > 0:\n",
    "                \n",
    "                ice_sheet = folder_dropdown.value.split('/')[-1]\n",
    "            \n",
    "                self_workflow_results_filepath = os.path.join(self_tooldir, '%s_processed_netcdf_info.txt' %ice_sheet)\n",
    "                log_info ('self_workflow_results_filepath: ' + self_workflow_results_filepath)\n",
    "                \n",
    "                for file in os.listdir(self_tooldir):\n",
    "                    if os.path.isfile(file):\n",
    "                        if file.startswith('ccrghubdemo-') and file.endswith('_out.txt'):\n",
    "                            os.remove(file)\n",
    "                        if file.endswith('netcdf_info.json'):\n",
    "                            os.remove(file)\n",
    "                        if file.endswith('netcdf_info.txt'):\n",
    "                            os.remove(file)\n",
    " \n",
    "                #Note: Execution time depends on the current UB CCR workload.\n",
    "                log_status (workflow_progress, \"Pegasus workflow in progress...\")\n",
    "            \n",
    "                instance = RunJobs (self_username, description_list[folder_index], folder_list[folder_index], ','.join(selected_modeling_groups))\n",
    "                print ('instance: %s' %str(instance))\n",
    "                exitCode = instance.run_jobs()\n",
    "                del instance\n",
    "\n",
    "                log_status (workflow_progress, \"\\nWorkflow elapsed time: \" + str((time.time() - start_time)/60.0) + \" minutes\\n\")\n",
    "\n",
    "                # Check if the results files were created and transferred from CCR \n",
    "                # to determine if workflow completed successfully\n",
    "\n",
    "                if os.path.exists(self_workflow_results_filepath):\n",
    "\n",
    "                    log_status (workflow_progress, \"Workflow completed successfully\\n\")\n",
    "                    self_workflow_succeeded = True\n",
    "\n",
    "                    with workflow_results:\n",
    "\n",
    "                        print(\"%s: \\n\\n\" %self_workflow_results_filepath)\n",
    "                        f = open(self_workflow_results_filepath,'r')\n",
    "                        for line in f:\n",
    "                            print(line.rstrip())\n",
    "                        f.close()\n",
    "\n",
    "                else:\n",
    "\n",
    "                    log_error (workflow_progress, \"Workflow did not complete successfully\")\n",
    "                    log_error (workflow_progress, \"%s not generated by the workflow\\n\" %self_workflow_results_filepath)\n",
    "                    self_workflow_succeeded = False\n",
    "\n",
    "                    filepath = os.path.join(self_tooldir, 'pegasus.analysis')\n",
    "                    if (os.path.exists(filepath)):\n",
    "                        print(\"pegasus.analysis:\\n\")\n",
    "                        f = open(filepath, 'r')\n",
    "                        output = f.read()\n",
    "                        f.close()\n",
    "                        print (output)\n",
    "                \n",
    "                finish_workflow_processing()\n",
    "                    \n",
    "            else:\n",
    "                \n",
    "                log_error (workflow_progress, '\\nERROR: No modeling groups are selected. Please select at least one modeling group.')\n",
    "\n",
    "        except Exception as e:\n",
    "        \n",
    "            log_error (workflow_progress, \"Workflow Exception: %s\\n\" %str(e))\n",
    "            \n",
    "        enable_widgets()\n",
    "            "
   ]
  },
  {
   "cell_type": "code",
   "execution_count": 20,
   "metadata": {},
   "outputs": [
    {
     "data": {
      "application/vnd.jupyter.widget-view+json": {
       "model_id": "d971690cf67f4ce290f7acde7ef31595",
       "version_major": 2,
       "version_minor": 0
      },
      "text/plain": [
       "Button(description='Run Workflow', layout=Layout(height='30px', width='350px'), style=ButtonStyle(button_color…"
      ]
     },
     "metadata": {},
     "output_type": "display_data"
    }
   ],
   "source": [
    "runWorkflowButton = widgets.Button(description=\"Run Workflow\", disabled=False,\\\n",
    "    layout=widgets.Layout(width=GREEN_BUTTON_WIDTH, height=GREEN_BUTTON_HEIGHT),\\\n",
    "    style= {'button_color':'lawngreen','font_weight':'bold'}).add_class(\"buttontextclass\")\n",
    "runWorkflowButton.on_click (run_workflow)\n",
    "#help (runWorkflowButton)\n",
    "display(runWorkflowButton)\n"
   ]
  },
  {
   "cell_type": "markdown",
   "metadata": {},
   "source": [
    "<a name=\"step_4\"></a>\n",
    "## Step 4: View Workflow Progress [&#8607;](#userguide)\n"
   ]
  },
  {
   "cell_type": "code",
   "execution_count": 21,
   "metadata": {},
   "outputs": [
    {
     "data": {
      "application/vnd.jupyter.widget-view+json": {
       "model_id": "468af0212997460295e15e1fde9f6980",
       "version_major": 2,
       "version_minor": 0
      },
      "text/plain": [
       "Output(layout=Layout(border='1px solid black'))"
      ]
     },
     "metadata": {},
     "output_type": "display_data"
    }
   ],
   "source": [
    "workflow_progress = widgets.Output(layout={'border': BORDER_STYLE})\n",
    "display(workflow_progress)"
   ]
  },
  {
   "cell_type": "markdown",
   "metadata": {},
   "source": [
    "<a name=\"step_5\"></a>\n",
    "## Step 5: View Workflow Results [&#8607;](#userguide)\n"
   ]
  },
  {
   "cell_type": "code",
   "execution_count": 22,
   "metadata": {},
   "outputs": [
    {
     "data": {
      "application/vnd.jupyter.widget-view+json": {
       "model_id": "46bab23c66f14ae296133e7080550e97",
       "version_major": 2,
       "version_minor": 0
      },
      "text/plain": [
       "Output(layout=Layout(border='1px solid black'))"
      ]
     },
     "metadata": {},
     "output_type": "display_data"
    }
   ],
   "source": [
    "workflow_results = widgets.Output(layout={'border': BORDER_STYLE})\n",
    "display(workflow_results)"
   ]
  },
  {
   "cell_type": "code",
   "execution_count": 23,
   "metadata": {},
   "outputs": [],
   "source": [
    "def send_user_email(workflow_succeeded):\n",
    "\n",
    "    email_subject = 'Ghub session #' + session_num + '.'\n",
    "    \n",
    "    if workflow_succeeded:\n",
    "        email_text = 'Your ccrghubdemo jobs are complete!\\r'\n",
    "        email_text = email_text+'\\rOutput files can be accessed on theghub.org in the following directory:'\n",
    "        email_text = email_text+'\\r' + str(self_tooldir)\n",
    "    else:\n",
    "        email_text = 'Your ccrghubdemo jobs Failed.'\n",
    "        email_text = email_text+'\\rPlease check theghub.org for further information, in the directory:'\n",
    "        email_text = email_text+'\\r' + str(self_tooldir)        \n",
    "        \n",
    "    email_cmd = 'submit --progress silent mail2self -t \"'+email_text+'\" -s \"'+email_subject+'\"'\n",
    "    \n",
    "    # email debugging\n",
    "    #start_time = time.time()\n",
    "    os.system(email_cmd)\n",
    "    #elapsed_time = time.time() - start_time\n",
    "    #print ('email elapsed time: ', elapsed_time)\n",
    "    \n",
    "def finish_workflow_processing():\n",
    "    \n",
    "    try:\n",
    "\n",
    "        log_info ('\\nfinish_workflow_processing...')\n",
    "        \n",
    "        # workflow.yml is created by Wrapper.py\n",
    "        #filepath = os.path.join(self_tooldir, 'workflow.yml')\n",
    "        #if os.path.exists(filepath):\n",
    "            #print (\"Deleting: %s\\n\" %filepath)\n",
    "            #os.remove(filepath)\n",
    "\n",
    "        for file in os.listdir(self_tooldir):\n",
    "            if os.path.isfile(file):\n",
    "                \n",
    "                if file[0] == \".\":\n",
    "                    if file != \".gitattributes\":\n",
    "                        #print (\"Deleting: %s\\n\" %file)\n",
    "                        os.remove(file)\n",
    "\n",
    "                #if file.startswith('python') and file.endswith('.stdout'):\n",
    "                    #log_info ('\\n%s:\\n' %file)\n",
    "                    #f = open(file,'r')\n",
    "                    #for line in f:\n",
    "                        #log_info (line)\n",
    "                    #f.close()\n",
    "                    #os.remove(file)\n",
    "                    \n",
    "                if file.startswith('python') and file.endswith('.stderr'):\n",
    "                    log_info ('\\n%s:\\n' %file)\n",
    "                    f = open(file,'r')\n",
    "                    for line in f:\n",
    "                        log_info (line)\n",
    "                    f.close()\n",
    "                    os.remove(file)\n",
    "         \n",
    "        filepath = os.path.join(self_tooldir, 'pegasus.analysis')\n",
    "        if (os.path.exists(filepath)):\n",
    "            filesize = os.path.getsize(filepath)\n",
    "            log_info ('\\npegasus.analysis filesize: ' + str(filesize))\n",
    "            log_info ('pegasus.analysis:\\n')\n",
    "            f = open(filepath, 'r')\n",
    "            output = f.read()\n",
    "            f.close()\n",
    "            log_info (output)\n",
    "            os.remove(filepath)\n",
    "        \n",
    "        filepath = os.path.join(self_tooldir, \"pegasusstatus.txt\")\n",
    "        if os.path.exists(filepath):\n",
    "            #print (\"Deleting: %s\\n\" %filepath)\n",
    "            os.remove(filepath)\n",
    "\n",
    "        filepath = os.path.join(self_tooldir, \"pegasusjobstats.csv\")\n",
    "        if os.path.exists(filepath):\n",
    "            #print (\"Deleting: %s\\n\" %filepath)\n",
    "            os.remove(filepath)\n",
    "\n",
    "        filepath = os.path.join(self_tooldir, \"pegasussummary-time.csv\")\n",
    "        if os.path.exists(filepath):\n",
    "            #print (\"Deleting: %s\\n\" %filepath)\n",
    "            os.remove(filepath)\n",
    "\n",
    "        filepath = os.path.join(self_tooldir, \"pegasussummary.csv\")\n",
    "        if os.path.exists(filepath):\n",
    "            #print (\"Deleting: %s\\n\" %filepath)\n",
    "            os.remove(filepath)\n",
    "\n",
    "        # send email to user\n",
    "        #if HOST == 'Ghub':\n",
    "           #send_user_email(self_workflow_succeeded)\n",
    "                \n",
    "        log_info ('finish_workflow_processing done.')\n",
    "        \n",
    "    except Exception as e:\n",
    "        log_error (workflow_progress, \"EXCEPTION: %s\\n\" % str(e))\n"
   ]
  },
  {
   "cell_type": "markdown",
   "metadata": {},
   "source": [
    "<a name=\"step_6\"></a>\n",
    "## Step 6: View Log Output File [&#8607;](#userguide)\n",
    "\n",
    "- If an error is encountered while running this tool,\n",
    "the cause of the error will be written to the log output file, ccrghubdemo_log_file.txt.\n",
    "\n",
    "- Click the `Show Log Output File` button to view the log output file.\n"
   ]
  },
  {
   "cell_type": "code",
   "execution_count": 24,
   "metadata": {},
   "outputs": [
    {
     "data": {
      "application/vnd.jupyter.widget-view+json": {
       "model_id": "df46f69bedb34c259af1e61f08adc907",
       "version_major": 2,
       "version_minor": 0
      },
      "text/plain": [
       "Button(description='Show Log Output', layout=Layout(height='30px', width='600px'), style=ButtonStyle(button_co…"
      ]
     },
     "metadata": {},
     "output_type": "display_data"
    }
   ],
   "source": [
    "def show_log_output(change):\n",
    "    \n",
    "    if os.path.exists(self_log_filepath):\n",
    "            \n",
    "        if show_log_output_button.description == 'Show Log Output':\n",
    "        \n",
    "            show_log_output_button.description = 'Hide Log Output'\n",
    "        \n",
    "            with log_output:\n",
    "            \n",
    "                print(\"%s: \\n\\n\" %self_log_filepath)\n",
    "                f = open(self_log_filepath,'r')\n",
    "                for line in f:\n",
    "                    print(line.rstrip())\n",
    "                f.close()\n",
    "        else:\n",
    "        \n",
    "            show_log_output_button.description = 'Show Log Output'\n",
    "            log_output.clear_output()\n",
    "    else:\n",
    "        log_error (log_output, '%s does not exist ' %self_log_filepath + '. Please contact us.')\n",
    "\n",
    "show_log_output_button.on_click(show_log_output)\n",
    "display (show_log_output_button)"
   ]
  },
  {
   "cell_type": "code",
   "execution_count": 25,
   "metadata": {},
   "outputs": [
    {
     "data": {
      "application/vnd.jupyter.widget-view+json": {
       "model_id": "85231bae6e6b4574bed6d11c0c3b3000",
       "version_major": 2,
       "version_minor": 0
      },
      "text/plain": [
       "Output(layout=Layout(border='1px solid black'))"
      ]
     },
     "metadata": {},
     "output_type": "display_data"
    }
   ],
   "source": [
    "log_output = widgets.Output(layout={'border': '1px solid black'})\n",
    "display (log_output)"
   ]
  },
  {
   "cell_type": "markdown",
   "metadata": {
    "tags": []
   },
   "source": [
    "<a name=\"step_7\"></a>\n",
    "## Step 7: View the Source Code and Scripts [&#8607;](#userguide)\n",
    "\n",
    "- Click a button below to view a script. On Ghub, when a button is clicked, a Download button will also display to enable you to download the script to your web browser.\n"
   ]
  },
  {
   "cell_type": "markdown",
   "metadata": {
    "tags": []
   },
   "source": [
    "<a name=\"step_7_a\"></a>\n",
    "### Source Code [&#8607;](#userguide)"
   ]
  },
  {
   "cell_type": "code",
   "execution_count": 26,
   "metadata": {},
   "outputs": [
    {
     "data": {
      "application/vnd.jupyter.widget-view+json": {
       "model_id": "312b1a8166ad41619dfacd88610c4a42",
       "version_major": 2,
       "version_minor": 0
      },
      "text/plain": [
       "Button(description='Show get_netcdf_info.py', layout=Layout(height='30px', width='600px'), style=ButtonStyle(b…"
      ]
     },
     "metadata": {},
     "output_type": "display_data"
    },
    {
     "data": {
      "application/vnd.jupyter.widget-view+json": {
       "model_id": "86373fa368ce4373b2997e04a13d9533",
       "version_major": 2,
       "version_minor": 0
      },
      "text/plain": [
       "Output(layout=Layout(border='1px solid black'))"
      ]
     },
     "metadata": {},
     "output_type": "display_data"
    },
    {
     "data": {
      "application/vnd.jupyter.widget-view+json": {
       "model_id": "2e694b329ee9443a9d89313bb71949dc",
       "version_major": 2,
       "version_minor": 0
      },
      "text/plain": [
       "Output()"
      ]
     },
     "metadata": {},
     "output_type": "display_data"
    },
    {
     "data": {
      "application/vnd.jupyter.widget-view+json": {
       "model_id": "4016ec390c454e92834132ee1f3b2f28",
       "version_major": 2,
       "version_minor": 0
      },
      "text/plain": [
       "Button(description='Show process_netcdf_info.py', layout=Layout(height='30px', width='600px'), style=ButtonSty…"
      ]
     },
     "metadata": {},
     "output_type": "display_data"
    },
    {
     "data": {
      "application/vnd.jupyter.widget-view+json": {
       "model_id": "2d9bd7ce82024dc7b9ef564fcda2c5bd",
       "version_major": 2,
       "version_minor": 0
      },
      "text/plain": [
       "Output(layout=Layout(border='1px solid black'))"
      ]
     },
     "metadata": {},
     "output_type": "display_data"
    },
    {
     "data": {
      "application/vnd.jupyter.widget-view+json": {
       "model_id": "297e83a138004dbeb0fb00428490801b",
       "version_major": 2,
       "version_minor": 0
      },
      "text/plain": [
       "Output()"
      ]
     },
     "metadata": {},
     "output_type": "display_data"
    }
   ],
   "source": [
    "b1_descr = 'get_netcdf_info.py'\n",
    "b1_filepath = os.path.join(self_tooldir, 'bin', '%s' %b1_descr)\n",
    "b1_button, b1_file_output, b1_download_button_output = \\\n",
    "    show_file_output_button (b1_descr, b1_filepath, False)\n",
    "\n",
    "b2_descr = 'process_netcdf_info.py'\n",
    "b2_filepath = os.path.join(self_tooldir, 'bin', '%s' %b2_descr)\n",
    "b2_button, b2_file_output, b2_download_button_output = \\\n",
    "    show_file_output_button (b2_descr, b2_filepath, False)"
   ]
  },
  {
   "cell_type": "code",
   "execution_count": null,
   "metadata": {},
   "outputs": [],
   "source": []
  },
  {
   "cell_type": "markdown",
   "metadata": {
    "tags": []
   },
   "source": [
    "<a name=\"step_7_b\"></a>\n",
    "### CCR Scripts [&#8607;](#userguide)\n",
    "\n",
    "On CCR, a Python virtual environment was installed for this tool. To enable this environment to be used in your Jupyter sessions, you will need to install the ccrghubdemo_kernel Kernel to the /user/[your CCR username]/.local/share/jupyter/kernels directory and change this notebook's Kernel. To install the ccrghubdemo_kernel Kernel, enter source install_ccrghubdemo.2023.01_kernel.sh in the CCR_Ghub_Demo directory. To change this notebook's Kernel, select Kernel / Change Kernel and select the ccrghubdemo_kernel Kernel. See [Using Python at CCR](https://docs.ccr.buffalo.edu/en/latest/howto/python/) to learn more about installing Python virtual environments and Jupyter kernels on CCR.\n"
   ]
  },
  {
   "cell_type": "code",
   "execution_count": 27,
   "metadata": {},
   "outputs": [
    {
     "data": {
      "application/vnd.jupyter.widget-view+json": {
       "model_id": "34c39f60bea74faa9e3362b7428fb58d",
       "version_major": 2,
       "version_minor": 0
      },
      "text/plain": [
       "Button(description='Show install_ccrghubdemo.2023.01_python_environment.sh', layout=Layout(height='30px', widt…"
      ]
     },
     "metadata": {},
     "output_type": "display_data"
    },
    {
     "data": {
      "application/vnd.jupyter.widget-view+json": {
       "model_id": "b2fa06de0a394fbd9526d86ca9ab4fbd",
       "version_major": 2,
       "version_minor": 0
      },
      "text/plain": [
       "Output(layout=Layout(border='1px solid black'))"
      ]
     },
     "metadata": {},
     "output_type": "display_data"
    },
    {
     "data": {
      "application/vnd.jupyter.widget-view+json": {
       "model_id": "6d9684e1877048ab8694bc23e9cb11c4",
       "version_major": 2,
       "version_minor": 0
      },
      "text/plain": [
       "Output()"
      ]
     },
     "metadata": {},
     "output_type": "display_data"
    },
    {
     "data": {
      "application/vnd.jupyter.widget-view+json": {
       "model_id": "4628c75cf89740f89ef074a28b943721",
       "version_major": 2,
       "version_minor": 0
      },
      "text/plain": [
       "Button(description='Show install_ccrghubdemo.2023.01_kernel.sh', layout=Layout(height='30px', width='600px'), …"
      ]
     },
     "metadata": {},
     "output_type": "display_data"
    },
    {
     "data": {
      "application/vnd.jupyter.widget-view+json": {
       "model_id": "0e46e7af2b80439baee36d2eca092df4",
       "version_major": 2,
       "version_minor": 0
      },
      "text/plain": [
       "Output(layout=Layout(border='1px solid black'))"
      ]
     },
     "metadata": {},
     "output_type": "display_data"
    },
    {
     "data": {
      "application/vnd.jupyter.widget-view+json": {
       "model_id": "94dfcfbb4abc46dbb192f403608a852f",
       "version_major": 2,
       "version_minor": 0
      },
      "text/plain": [
       "Output()"
      ]
     },
     "metadata": {},
     "output_type": "display_data"
    },
    {
     "data": {
      "application/vnd.jupyter.widget-view+json": {
       "model_id": "155d99a7500848d2bda164e48198d0f9",
       "version_major": 2,
       "version_minor": 0
      },
      "text/plain": [
       "Button(description='Show pythonLaunch.sh', layout=Layout(height='30px', width='600px'), style=ButtonStyle(butt…"
      ]
     },
     "metadata": {},
     "output_type": "display_data"
    },
    {
     "data": {
      "application/vnd.jupyter.widget-view+json": {
       "model_id": "eedabe0f96714949a8c5dc95cabd33ce",
       "version_major": 2,
       "version_minor": 0
      },
      "text/plain": [
       "Output(layout=Layout(border='1px solid black'))"
      ]
     },
     "metadata": {},
     "output_type": "display_data"
    },
    {
     "data": {
      "application/vnd.jupyter.widget-view+json": {
       "model_id": "edd0644cc00545228861255111e4c251",
       "version_major": 2,
       "version_minor": 0
      },
      "text/plain": [
       "Output()"
      ]
     },
     "metadata": {},
     "output_type": "display_data"
    },
    {
     "data": {
      "application/vnd.jupyter.widget-view+json": {
       "model_id": "a2bbc66990804451b950cc399e6da841",
       "version_major": 2,
       "version_minor": 0
      },
      "text/plain": [
       "Button(description='Show run_jobs_ccr.py', layout=Layout(height='30px', width='600px'), style=ButtonStyle(butt…"
      ]
     },
     "metadata": {},
     "output_type": "display_data"
    },
    {
     "data": {
      "application/vnd.jupyter.widget-view+json": {
       "model_id": "c39b5962914446159c60eb7c56347026",
       "version_major": 2,
       "version_minor": 0
      },
      "text/plain": [
       "Output(layout=Layout(border='1px solid black'))"
      ]
     },
     "metadata": {},
     "output_type": "display_data"
    },
    {
     "data": {
      "application/vnd.jupyter.widget-view+json": {
       "model_id": "62893c4da13b4e49a7906cfca517fe7f",
       "version_major": 2,
       "version_minor": 0
      },
      "text/plain": [
       "Output()"
      ]
     },
     "metadata": {},
     "output_type": "display_data"
    },
    {
     "data": {
      "application/vnd.jupyter.widget-view+json": {
       "model_id": "b3f69716591445c2a169f798de401c4b",
       "version_major": 2,
       "version_minor": 0
      },
      "text/plain": [
       "Button(description='Show sbatch_slurm.sh', layout=Layout(height='30px', width='600px'), style=ButtonStyle(butt…"
      ]
     },
     "metadata": {},
     "output_type": "display_data"
    },
    {
     "data": {
      "application/vnd.jupyter.widget-view+json": {
       "model_id": "be44b1e7d95048f3a51a977e2e281e2a",
       "version_major": 2,
       "version_minor": 0
      },
      "text/plain": [
       "Output(layout=Layout(border='1px solid black'))"
      ]
     },
     "metadata": {},
     "output_type": "display_data"
    },
    {
     "data": {
      "application/vnd.jupyter.widget-view+json": {
       "model_id": "d02985cdf36f4570b2e9d097d5ba59b0",
       "version_major": 2,
       "version_minor": 0
      },
      "text/plain": [
       "Output()"
      ]
     },
     "metadata": {},
     "output_type": "display_data"
    },
    {
     "data": {
      "application/vnd.jupyter.widget-view+json": {
       "model_id": "41fdb8821b07439ca4733fca5d366719",
       "version_major": 2,
       "version_minor": 0
      },
      "text/plain": [
       "Button(description='Show get_netcdf_info_slurm.sh', layout=Layout(height='30px', width='600px'), style=ButtonS…"
      ]
     },
     "metadata": {},
     "output_type": "display_data"
    },
    {
     "data": {
      "application/vnd.jupyter.widget-view+json": {
       "model_id": "344a69f1a3aa4230a1b205901b797d6d",
       "version_major": 2,
       "version_minor": 0
      },
      "text/plain": [
       "Output(layout=Layout(border='1px solid black'))"
      ]
     },
     "metadata": {},
     "output_type": "display_data"
    },
    {
     "data": {
      "application/vnd.jupyter.widget-view+json": {
       "model_id": "1283f510e0214fbea7bca8706dd22093",
       "version_major": 2,
       "version_minor": 0
      },
      "text/plain": [
       "Output()"
      ]
     },
     "metadata": {},
     "output_type": "display_data"
    },
    {
     "data": {
      "application/vnd.jupyter.widget-view+json": {
       "model_id": "34f76fe86fda4fe093fc9adf71115574",
       "version_major": 2,
       "version_minor": 0
      },
      "text/plain": [
       "Button(description='Show process_netcdf_info_slurm.sh', layout=Layout(height='30px', width='600px'), style=But…"
      ]
     },
     "metadata": {},
     "output_type": "display_data"
    },
    {
     "data": {
      "application/vnd.jupyter.widget-view+json": {
       "model_id": "20c221be6ef549e6915e506860873263",
       "version_major": 2,
       "version_minor": 0
      },
      "text/plain": [
       "Output(layout=Layout(border='1px solid black'))"
      ]
     },
     "metadata": {},
     "output_type": "display_data"
    },
    {
     "data": {
      "application/vnd.jupyter.widget-view+json": {
       "model_id": "34f20ace5f53450a9883d593aef06cf0",
       "version_major": 2,
       "version_minor": 0
      },
      "text/plain": [
       "Output()"
      ]
     },
     "metadata": {},
     "output_type": "display_data"
    },
    {
     "data": {
      "application/vnd.jupyter.widget-view+json": {
       "model_id": "c375487fa5b64fe68e58e9f831d79230",
       "version_major": 2,
       "version_minor": 0
      },
      "text/plain": [
       "Button(description='Show wait.sh', layout=Layout(height='30px', width='600px'), style=ButtonStyle(button_color…"
      ]
     },
     "metadata": {},
     "output_type": "display_data"
    },
    {
     "data": {
      "application/vnd.jupyter.widget-view+json": {
       "model_id": "7bde902c52d34fed87322811d69e205a",
       "version_major": 2,
       "version_minor": 0
      },
      "text/plain": [
       "Output(layout=Layout(border='1px solid black'))"
      ]
     },
     "metadata": {},
     "output_type": "display_data"
    },
    {
     "data": {
      "application/vnd.jupyter.widget-view+json": {
       "model_id": "ecca8c1985b441b0b83b6006b8280ce1",
       "version_major": 2,
       "version_minor": 0
      },
      "text/plain": [
       "Output()"
      ]
     },
     "metadata": {},
     "output_type": "display_data"
    }
   ],
   "source": [
    "b3_descr = 'install_ccrghubdemo.2023.01_python_environment.sh'\n",
    "b3_filepath = os.path.join(self_tooldir, '%s' %b3_descr)\n",
    "b3_button, b3_file_output, b3_download_button_output = \\\n",
    "    show_file_output_button (b3_descr, b3_filepath, False)\n",
    "\n",
    "b4_descr = 'install_ccrghubdemo.2023.01_kernel.sh'\n",
    "b4_filepath = os.path.join(self_tooldir, '%s' %b4_descr)\n",
    "b4_button, b4_file_output, b4_download_button_output = \\\n",
    "    show_file_output_button (b4_descr, b4_filepath, False)\n",
    "\n",
    "b5_descr = 'pythonLaunch.sh'\n",
    "b5_filepath = os.path.join(self_tooldir, 'bin', '%s' %b5_descr)\n",
    "b5_button, b5_file_output, b5_download_button_output = \\\n",
    "    show_file_output_button (b5_descr, b5_filepath, False)\n",
    "\n",
    "b6_descr = 'run_jobs_ccr.py'\n",
    "b6_filepath = os.path.join(self_tooldir, 'bin', '%s' %b6_descr)\n",
    "b6_button, b6_file_output, b6_download_button_output = \\\n",
    "    show_file_output_button (b6_descr, b6_filepath, False)\n",
    "\n",
    "b7_descr = 'sbatch_slurm.sh'\n",
    "b7_filepath = os.path.join(self_tooldir, 'bin', '%s' %b7_descr)\n",
    "b7_button, b7_file_output, b7_download_button_output = \\\n",
    "    show_file_output_button (b7_descr, b7_filepath, False)\n",
    "\n",
    "b8_descr = 'get_netcdf_info_slurm.sh'\n",
    "b8_filepath = os.path.join(self_tooldir, 'bin', '%s' %b8_descr)\n",
    "b8_button, b8_file_output, b8_download_button_output = \\\n",
    "    show_file_output_button (b8_descr, b8_filepath, False)\n",
    "\n",
    "b9_descr = 'process_netcdf_info_slurm.sh'\n",
    "b9_filepath = os.path.join(self_tooldir, 'bin', '%s' %b9_descr)\n",
    "b9_button, b9_file_output, b9_download_button_output = \\\n",
    "    show_file_output_button (b9_descr, b9_filepath, False)\n",
    "\n",
    "b10_descr = 'wait.sh'\n",
    "b10_filepath = os.path.join(self_tooldir, 'bin', '%s' %b10_descr)\n",
    "b10_button, b10_file_output, b10_download_button_output = \\\n",
    "    show_file_output_button (b10_descr, b10_filepath, False)\n",
    "\n"
   ]
  },
  {
   "cell_type": "markdown",
   "metadata": {
    "tags": []
   },
   "source": [
    "<a name=\"step_7_c\"></a>\n",
    "### Ghub Scripts [&#8607;](#userguide)\n"
   ]
  },
  {
   "cell_type": "code",
   "execution_count": 28,
   "metadata": {},
   "outputs": [
    {
     "data": {
      "application/vnd.jupyter.widget-view+json": {
       "model_id": "665b2f9f0cc24131bb8d91ea99884f25",
       "version_major": 2,
       "version_minor": 0
      },
      "text/plain": [
       "Button(description='Show pythonLaunch.sh', layout=Layout(height='30px', width='600px'), style=ButtonStyle(butt…"
      ]
     },
     "metadata": {},
     "output_type": "display_data"
    },
    {
     "data": {
      "application/vnd.jupyter.widget-view+json": {
       "model_id": "8590efd18dad4071b5f3184dcb1c0608",
       "version_major": 2,
       "version_minor": 0
      },
      "text/plain": [
       "Output(layout=Layout(border='1px solid black'))"
      ]
     },
     "metadata": {},
     "output_type": "display_data"
    },
    {
     "data": {
      "application/vnd.jupyter.widget-view+json": {
       "model_id": "864a188f1a614c9480efa6d9391f38aa",
       "version_major": 2,
       "version_minor": 0
      },
      "text/plain": [
       "Output()"
      ]
     },
     "metadata": {},
     "output_type": "display_data"
    },
    {
     "data": {
      "application/vnd.jupyter.widget-view+json": {
       "model_id": "0d6c4b6af9af4e7f9e61697bf6f51901",
       "version_major": 2,
       "version_minor": 0
      },
      "text/plain": [
       "Button(description='Show run_jobs_ghub.py', layout=Layout(height='30px', width='600px'), style=ButtonStyle(but…"
      ]
     },
     "metadata": {},
     "output_type": "display_data"
    },
    {
     "data": {
      "application/vnd.jupyter.widget-view+json": {
       "model_id": "ae6267b846ae44d8b39768c1e2d6ca0e",
       "version_major": 2,
       "version_minor": 0
      },
      "text/plain": [
       "Output(layout=Layout(border='1px solid black'))"
      ]
     },
     "metadata": {},
     "output_type": "display_data"
    },
    {
     "data": {
      "application/vnd.jupyter.widget-view+json": {
       "model_id": "328613aba31442349f333cf610a97603",
       "version_major": 2,
       "version_minor": 0
      },
      "text/plain": [
       "Output()"
      ]
     },
     "metadata": {},
     "output_type": "display_data"
    }
   ],
   "source": [
    "b11_descr = 'pythonLaunch.sh'\n",
    "b11_filepath = os.path.join(self_tooldir, 'remotebin', '%s' %b11_descr)\n",
    "b11_button, b11_file_output, b11_download_button_output = \\\n",
    "    show_file_output_button (b11_descr, b11_filepath, False)\n",
    "\n",
    "b12_descr = 'run_jobs_ghub.py'\n",
    "b12_filepath = os.path.join(self_tooldir, 'bin', '%s' %b12_descr)\n",
    "b12_button, b12_file_output, b12_download_button_output = \\\n",
    "    show_file_output_button (b12_descr, b12_filepath, False)\n",
    "\n"
   ]
  },
  {
   "cell_type": "code",
   "execution_count": 29,
   "metadata": {},
   "outputs": [],
   "source": [
    "### Ghub Python Script"
   ]
  },
  {
   "cell_type": "code",
   "execution_count": 30,
   "metadata": {},
   "outputs": [],
   "source": [
    "def disable_widgets():\n",
    "\n",
    "    global all_modeling_groups\n",
    "\n",
    "    #modeling_groups_selection_form.disabled = True\n",
    "    # Children need to be explictly disabled.\n",
    "    for i in range(len(all_modeling_groups)):\n",
    "        all_modeling_groups[i].children[0].disabled = True\n",
    "    runWorkflowButton.disabled = True\n",
    "    \n",
    "def enable_widgets():\n",
    "    \n",
    "    global all_modeling_groups\n",
    "\n",
    "    #modeling_groups_selection_form.disabled = False\n",
    "    # Children need to be explictly enabled.\n",
    "    for i in range(len(all_modeling_groups)):\n",
    "        all_modeling_groups[i].children[0].disabled = False\n",
    "    runWorkflowButton.disabled = False\n",
    "         \n",
    "def initialize():\n",
    "    \n",
    "    global all_modeling_groups\n",
    "    \n",
    "    disable_widgets()\n",
    "    \n",
    "    # Display form\n",
    "    with models_form_output:\n",
    "        \n",
    "        modeling_groups = list(modeling_groups_list[folder_index].split(','))\n",
    "        all_modeling_groups = []\n",
    "        for i in range (len(modeling_groups)):\n",
    "            append_modeling_groups(modeling_groups[i])\n",
    "        modeling_groups_checkbox_form = ui.Form(all_modeling_groups, name = '')\n",
    "        modeling_groups_buttons_form = ui.Form([select_default_models_button, select_all_models_button, unselect_all_models_button], name = '')\n",
    "        modeling_groups_selection_form = ui.Form([modeling_groups_checkbox_form, modeling_groups_buttons_form], name = 'Modeling Group Selections')\n",
    "        #Reduce the computational load by default\n",
    "        select_default_modeling_groups()\n",
    "        \n",
    "        clear_output()\n",
    "        display(modeling_groups_selection_form)\n",
    "    \n",
    "    if HOST != 'Unknown':\n",
    "        enable_widgets()\n"
   ]
  },
  {
   "cell_type": "code",
   "execution_count": 31,
   "metadata": {},
   "outputs": [],
   "source": [
    "# Start processing.\n",
    "initialize()\n"
   ]
  },
  {
   "cell_type": "code",
   "execution_count": null,
   "metadata": {},
   "outputs": [],
   "source": []
  }
 ],
 "metadata": {
  "anaconda-cloud": {},
  "kernelspec": {
   "display_name": "Python 3 (ipykernel)",
   "language": "python",
   "name": "python3"
  },
  "language_info": {
   "codemirror_mode": {
    "name": "ipython",
    "version": 3
   },
   "file_extension": ".py",
   "mimetype": "text/x-python",
   "name": "python",
   "nbconvert_exporter": "python",
   "pygments_lexer": "ipython3",
   "version": "3.8.15"
  },
  "tool": false
 },
 "nbformat": 4,
 "nbformat_minor": 4
}
